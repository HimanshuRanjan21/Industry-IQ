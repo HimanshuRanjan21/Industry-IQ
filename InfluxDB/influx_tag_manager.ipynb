{
 "cells": [
  {
   "cell_type": "code",
   "execution_count": 1,
   "metadata": {
    "ExecuteTime": {
     "end_time": "2023-10-27T07:51:48.211604Z",
     "start_time": "2023-10-27T07:51:46.276558Z"
    }
   },
   "outputs": [],
   "source": [
    "import numpy as np\n",
    "import pandas as pd\n",
    "import os, time\n",
    "import configparser\n",
    "import influxdb_client\n",
    "\n",
    "from datetime import datetime\n",
    "from itertools import product\n",
    "from influxdb_client import InfluxDBClient, Point, WritePrecision, WriteOptions\n",
    "from influxdb_client import BucketsApi, Bucket, BucketRetentionRules\n",
    "from influxdb_client.client.write_api import SYNCHRONOUS\n",
    "from influxdb_client.rest import ApiException\n",
    " \n",
    "from influxdb_client.client.flux_table import FluxTable\n",
    "from typing import List"
   ]
  },
  {
   "cell_type": "code",
   "execution_count": 2,
   "metadata": {
    "ExecuteTime": {
     "end_time": "2023-10-27T07:51:48.221598Z",
     "start_time": "2023-10-27T07:51:48.211604Z"
    }
   },
   "outputs": [],
   "source": [
    "token = \"FN1XbuLPfmUJ5xFZpjdI9m0TRq1jeNEcmh305vVV9nexhHo7FTwPHNC9NWKUP4yxvu2qzGL8UaAjykZUiZkejA==\"\n",
    "org = \"self\"\n",
    "url = \"http://localhost:8086/\""
   ]
  },
  {
   "cell_type": "code",
   "execution_count": 3,
   "metadata": {
    "ExecuteTime": {
     "end_time": "2023-10-26T04:18:15.112041Z",
     "start_time": "2023-10-26T04:18:15.105481Z"
    }
   },
   "outputs": [],
   "source": [
    "def fetch_tag_list(bucket: str,\n",
    "                    measurement: str, \n",
    "                    tag_name: str\n",
    "                    ) -> list:\n",
    "    \n",
    "    client = InfluxDBClient(url=url, token=token)\n",
    "\n",
    "    # Query data from the specified bucket and measurement\n",
    "    query_api = client.query_api()\n",
    "    query = f\"\"\"from(bucket: \"{bucket}\") \n",
    "                |> range(start: 2020-01-01T00:00:00Z, stop: 2023-12-31T23:59:59Z) \n",
    "                |> filter(fn: (r) => r._measurement == \"{measurement}\") \n",
    "                |> limit(n: 1)\n",
    "            \"\"\"\n",
    "    result = query_api.query(query, org=org)\n",
    "\n",
    "    # Parse distinct tag values from the result\n",
    "    tag_values: List[str] = []\n",
    "    for table in result:\n",
    "        for record in table.records:\n",
    "            if record.values.get(f'{tag_name}'):\n",
    "                tag_values.append(record.values.get(f'{tag_name}'))\n",
    "\n",
    "    client.close()\n",
    "\n",
    "    return tag_values"
   ]
  },
  {
   "cell_type": "code",
   "execution_count": 7,
   "metadata": {
    "ExecuteTime": {
     "end_time": "2023-10-26T04:18:15.802377Z",
     "start_time": "2023-10-26T04:18:15.758546Z"
    }
   },
   "outputs": [],
   "source": [
    "tag_data = (fetch_tag_list('plant', 'tag_data', 'sensor_id'))"
   ]
  },
  {
   "cell_type": "code",
   "execution_count": 8,
   "metadata": {},
   "outputs": [
    {
     "name": "stdout",
     "output_type": "stream",
     "text": [
      "205\n",
      "['53DPC_1201.PV', '53DPI_0411.PV', '53DPI_1204.PV', '53DPI_1205.PV', '53DPI_1206.PV', '53DPI_1301.PV', '53DPI_1303.PV', '53DPT_1203.PV', '53DPT_1302.PV', '53FC_0107.PV', '53FC_0201.PV', '53FC_0205.PV', '53FC_0301.PV', '53FC_0303.PV', '53FC_0402.PV', '53FC_0403.PV', '53FC_0404.PV', '53FC_0502.PV', '53FC_0503.PV', '53FC_0603.PV', '53FC_0703.PV', '53FC_0803.PV', '53FC_1301.PV', '53FC_1302.PV', '53FC_1304.PV', '53FC_1401B.PV', '53FC_1402.PV', '53FC_1406.PV', '53FC_1412.PV', '53FC_1422.PV', '53FI_0101.PV', '53FI_0102.PV', '53FI_0405.PV', '53FI_0406.PV', '53FI_0407.PV', '53FI_0408.PV', '53FI_0507.PV', '53FI_0701.PV', '53FI_0702.PV', '53FI_0801.PV', '53FI_0901.PV', '53FI_0903.PV', '53FI_1201.PV', '53FI_1202.PV', '53FI_1203.PV', '53FI_1303.PV', '53FI_1305.PV', '53FI_1404A.PV', '53FI_1405a.PV', '53FI_1405b.PV', '53FI_1405c.PV', '53FI_1405d.PV', '53FI_1407a.PV', '53FI_1407b.PV', '53FI_1407c.PV', '53FI_1407d.PV', '53FI_1408.PV', '53FI_1421A.PV', '53FI_1421B.PV', '53FI_1501B.PV', '53FI_1504.PV', '53FI_1505A.PV', '53FI_2401.PV', '53FT_0303.PV', '53FX_0101.PV', '53HC_1202.OP', '53HC_1203.OP', '53HC_1521.OP', '53LC_0102.PV', '53LC_0202.PV', '53LC_0204.PV', '53LC_0302.PV', '53LC_0305.PV', '53LC_0406.PV', '53LC_0502.PV', '53LC_0506.PV', '53LC_0605.PV', '53LC_0704.PV', '53LC_0804.PV', '53LC_1301.OP', '53LC_1401.PV', '53LI_0506B.PV', '53LI_0702.PV', '53LI_0802.PV', '53LI_1201.PV', '53LT_0502.PV', '53LT_1301.PV', '53LT_1302.PV', '53PC_0301A.PV', '53PC_0406.PV', '53PC_0510.PV', '53PC_0604.PV', '53PC_0811.PV', '53PC_1503.PV', '53PDI_0526.PV', '53PDI_1511.PV', '53PDI_1512.PV', '53PDI_2404.PV', '53PI_0209.PV', '53PI_0210.PV', '53PI_0409.PV', '53PI_0410.PV', '53PI_0504.PV', '53PI_0524.PV', '53PI_0911.PV', '53PI_0916.PV', '53PI_0922.PV', '53PI_0932.PV', '53PI_1201.PV', '53PI_1207.PV', '53PI_1221.PV', '53PI_1222.PV', '53PI_1303.PV', '53PI_1304.PV', '53PI_1310.PV', '53PI_1311.PV', '53PI_1401.PV', '53PI_1405A.PV', '53PI_1406A.PV', '53PI_1502.PV', '53PI_1504.PV', '53PI_5410.PV', '53PT_0711.PV', '53PT_1302.PV', '53TC_0201.PV', '53TC_0210.PV', '53TC_0501.PV', '53TC_0502A.PV', '53TC_0503.PV', '53TC_0511.PV', '53TC_0513.PV', '53TC_0603.PV', '53TC_0614.PV', '53TC_0619.PV', '53TC_1407A.OP', '53TC_1407A.PV', '53TC_1503.PV', '53TI_0202.PV', '53TI_0203.PV', '53TI_0204.PV', '53TI_0205.PV', '53TI_0206.PV', '53TI_0207.PV', '53TI_0211.PV', '53TI_0301.PV', '53TI_0402.PV', '53TI_0403.PV', '53TI_0409.PV', '53TI_0410.PV', '53TI_0504.PV', '53TI_0510.PV', '53TI_0551.PV', '53TI_0601.PV', '53TI_0612.PV', '53TI_0902.PV', '53TI_0905.PV', '53TI_0912.PV', '53TI_0919.PV', '53TI_0981.PV', '53TI_1203B.PV', '53TI_1203C.PV', '53TI_1204B.PV', '53TI_1204C.PV', '53TI_1205A.PV', '53TI_1205B.PV', '53TI_1205C.PV', '53TI_1303.PV', '53TI_1305.PV', '53TI_1307A.PV', '53TI_1307B.PV', '53TI_1308.PV', '53TI_1309.PV', '53TI_1310.PV', '53TI_1403.PV', '53TI_1405.PV', '53TI_1410.PV', '53TI_1501.PV', '53TI_1502.PV', '53TI_2401.PV', '53TI_2402.PV', '53TT_1201.PV', '53TT_1203A.PV', '53TT_1204A.PV', '53XI_1511.PV', '53XI_1512.PV', '53XI_1521.PV', '53XI_1522.PV', '53XI_1531.PV', '53XI_1532.PV', '53YI_1511.PV', '53YI_1512.PV', '53YI_1521.PV', '53YI_1522.PV', '53YI_1531.PV', '53YI_1532.PV', '53ZI_1523A.PV', '53ZI_1523B.PV', '53ZI_1721A.PV', '53ZI_1721B.PV', '55FI0103.PV', '55FIC0107.PV', '55LI0103.PV', '55LIC0106.PV', '55PI0101.PV', '55PI0110.PV']\n"
     ]
    }
   ],
   "source": [
    "print(len(tag_data))\n",
    "print(tag_data)"
   ]
  }
 ],
 "metadata": {
  "kernelspec": {
   "display_name": "Python 3 (ipykernel)",
   "language": "python",
   "name": "python3"
  },
  "language_info": {
   "codemirror_mode": {
    "name": "ipython",
    "version": 3
   },
   "file_extension": ".py",
   "mimetype": "text/x-python",
   "name": "python",
   "nbconvert_exporter": "python",
   "pygments_lexer": "ipython3",
   "version": "3.11.0"
  },
  "toc": {
   "base_numbering": 1,
   "nav_menu": {},
   "number_sections": true,
   "sideBar": true,
   "skip_h1_title": false,
   "title_cell": "Table of Contents",
   "title_sidebar": "Contents",
   "toc_cell": false,
   "toc_position": {},
   "toc_section_display": true,
   "toc_window_display": false
  }
 },
 "nbformat": 4,
 "nbformat_minor": 2
}
